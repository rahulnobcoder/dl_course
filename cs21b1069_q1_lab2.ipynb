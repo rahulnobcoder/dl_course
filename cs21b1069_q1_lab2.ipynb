{
 "cells": [
  {
   "cell_type": "code",
   "execution_count": 1,
   "id": "20ca20b3",
   "metadata": {
    "id": "20ca20b3"
   },
   "outputs": [],
   "source": [
    "import numpy as np\n",
    "import pandas as pd"
   ]
  },
  {
   "cell_type": "code",
   "execution_count": 44,
   "id": "aa625175",
   "metadata": {
    "id": "aa625175"
   },
   "outputs": [],
   "source": [
    "#initialising\n",
    "alpha=0.01\n",
    "iterations=1000000\n",
    "# w1=np.array([[0.5,0.8],[1.5,0.2],[0.8,-1.6]])\n",
    "# w2=np.array([[0.9,1.2],[-1.7,2.1],[1.6,-0.2]])\n",
    "w1=np.zeros([5,2])\n",
    "w2=np.zeros([3,2])\n",
    "x=np.array([[1],[0.7],[1.2],[1.1],[2.1]])"
   ]
  },
  {
   "cell_type": "code",
   "execution_count": 45,
   "id": "9fb82e6f",
   "metadata": {
    "id": "9fb82e6f"
   },
   "outputs": [],
   "source": [
    "hidden_layer=np.zeros([3,1])\n",
    "hidden_layer[0]=1   #setting bias\n",
    "output_layer=np.zeros([2,1])\n",
    "target=np.array([[1],[0]])\n",
    "delta_hidden=np.zeros([3,1])"
   ]
  },
  {
   "cell_type": "code",
   "execution_count": 46,
   "id": "b47affc0",
   "metadata": {
    "id": "b47affc0"
   },
   "outputs": [],
   "source": [
    "def sigmoid(a):\n",
    "    return 1/(1 + np.exp(-a))"
   ]
  },
  {
   "cell_type": "code",
   "execution_count": null,
   "id": "6298db56",
   "metadata": {
    "colab": {
     "base_uri": "https://localhost:8080/"
    },
    "id": "6298db56",
    "outputId": "f96a8466-9a5b-4441-a860-59d5b6e36951"
   },
   "outputs": [],
   "source": [
    "for i in range(iterations):\n",
    "    #feed forwarding\n",
    "    hidden_layer[1:]=sigmoid(np.matmul(w1.T,x))\n",
    "    output_layer=sigmoid(np.matmul(w2.T,hidden_layer))\n",
    "    \n",
    "    error=(output_layer-target)\n",
    "    \n",
    "    #back propagation\n",
    "    \n",
    "    \n",
    "    delta_output=(output_layer-target)*output_layer*(1-output_layer)\n",
    "    gradient=np.matmul(hidden_layer,delta_output.T)\n",
    "    #weight updation\n",
    "    w2=w2-alpha*gradient\n",
    "    \n",
    "    delta_hidden[1:]=np.matmul(w2[1:],delta_output)*hidden_layer[1:]*(1-hidden_layer[1:])\n",
    "#     delta_hidden[0]=np.matmul(w2[0],delta_output)\n",
    "    gradient_hid=np.matmul(x,delta_hidden[1:].T)\n",
    "    \n",
    "    w1=w1-alpha*gradient_hid\n",
    "output_layer"
   ]
  },
  {
   "cell_type": "code",
   "execution_count": null,
   "id": "a2d03897",
   "metadata": {},
   "outputs": [],
   "source": [
    "error"
   ]
  },
  {
   "cell_type": "code",
   "execution_count": null,
   "id": "08f27b93",
   "metadata": {},
   "outputs": [],
   "source": []
  }
 ],
 "metadata": {
  "accelerator": "GPU",
  "colab": {
   "gpuType": "T4",
   "provenance": []
  },
  "kernelspec": {
   "display_name": "Python 3 (ipykernel)",
   "language": "python",
   "name": "python3"
  },
  "language_info": {
   "codemirror_mode": {
    "name": "ipython",
    "version": 3
   },
   "file_extension": ".py",
   "mimetype": "text/x-python",
   "name": "python",
   "nbconvert_exporter": "python",
   "pygments_lexer": "ipython3",
   "version": "3.11.4"
  }
 },
 "nbformat": 4,
 "nbformat_minor": 5
}
